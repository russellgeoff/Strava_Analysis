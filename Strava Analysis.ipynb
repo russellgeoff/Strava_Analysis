{
 "cells": [
  {
   "cell_type": "code",
   "execution_count": 438,
   "metadata": {
    "collapsed": true
   },
   "outputs": [],
   "source": [
    "import numpy as np\n",
    "import pandas as pd\n",
    "from stravalib.client import Client\n",
    "import json"
   ]
  },
  {
   "cell_type": "code",
   "execution_count": 439,
   "metadata": {},
   "outputs": [],
   "source": [
    "# Prepare data frames\n",
    "df = pd.DataFrame(columns=['start','id','elapsed_time'])\n",
    "df_temp = pd.DataFrame(columns=['start', 'id', 'elapsed_time'])"
   ]
  },
  {
   "cell_type": "code",
   "execution_count": 440,
   "metadata": {},
   "outputs": [],
   "source": [
    "# Setup access to Strava API\n",
    "with open('config.json') as data_file:    \n",
    "    passwords = json.load(data_file)\n",
    "\n",
    "client = Client()\n",
    "access_token = passwords['passwords'][0]['access_token']\n",
    "client_id = passwords['passwords'][1]['client_id']\n",
    "client_secret = passwords['passwords'][2]['client_secret']\n",
    "\n",
    "client.access_token = access_token"
   ]
  },
  {
   "cell_type": "code",
   "execution_count": 441,
   "metadata": {},
   "outputs": [],
   "source": [
    "# Fetch activity data from Strava_API\n",
    "for activity in client.get_activities():\n",
    "    df_temp['start'] = [activity.start_date_local]\n",
    "    df_temp['id'] = [activity.id]\n",
    "    df_temp['elapsed_time'] = [activity.elapsed_time]\n",
    "    df = df.append(df_temp, ignore_index=True)\n"
   ]
  },
  {
   "cell_type": "code",
   "execution_count": 450,
   "metadata": {
    "collapsed": false
   },
   "outputs": [
    {
     "data": {
      "text/plain": [
       "Timedelta('0 days 00:59:33.470238')"
      ]
     },
     "execution_count": 450,
     "metadata": {},
     "output_type": "execute_result"
    }
   ],
   "source": [
    "# Analize data from Strava \n",
    "thresh_upper = np.timedelta64(100,\"m\")  # Upper bound in minutes\n",
    "thresh_lower = np.timedelta64(30,\"m\")  # Lower bound in minutes\n",
    "\n",
    "mask = df['elapsed_time'][20:].apply(lambda x: \n",
    "                                     True if (x > thresh_lower and x < thresh_upper) \n",
    "                                     else False)\n",
    "\n",
    "filtered_array = df['elapsed_time'][20:].where(mask)\n",
    "\n",
    "filtered_array.mean()"
   ]
  },
  {
   "cell_type": "code",
   "execution_count": 443,
   "metadata": {},
   "outputs": [
    {
     "data": {
      "text/plain": [
       "168"
      ]
     },
     "execution_count": 443,
     "metadata": {},
     "output_type": "execute_result"
    }
   ],
   "source": [
    "filtered_array.size - np.count_nonzero(np.isnat(filtered_array))"
   ]
  },
  {
   "cell_type": "markdown",
   "metadata": {
    "collapsed": true
   },
   "source": [
    "#Average commute time using CalTrain is 1:00 using 168 commutes for data"
   ]
  },
  {
   "cell_type": "code",
   "execution_count": null,
   "metadata": {},
   "outputs": [],
   "source": []
  }
 ],
 "metadata": {
  "kernelspec": {
   "display_name": "Python 2",
   "language": "python",
   "name": "python2"
  },
  "language_info": {
   "codemirror_mode": {
    "name": "ipython",
    "version": 2
   },
   "file_extension": ".py",
   "mimetype": "text/x-python",
   "name": "python",
   "nbconvert_exporter": "python",
   "pygments_lexer": "ipython2",
   "version": "2.7.6"
  }
 },
 "nbformat": 4,
 "nbformat_minor": 0
}
